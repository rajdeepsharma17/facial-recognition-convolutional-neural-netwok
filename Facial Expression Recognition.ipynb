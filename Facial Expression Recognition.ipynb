{
 "cells": [
  {
   "cell_type": "code",
   "execution_count": 21,
   "metadata": {},
   "outputs": [
    {
     "name": "stdout",
     "output_type": "stream",
     "text": [
      "Collecting cv2\n",
      "\u001b[31m  ERROR: Could not find a version that satisfies the requirement cv2 (from versions: none)\u001b[0m\n",
      "\u001b[31mERROR: No matching distribution found for cv2\u001b[0m\n"
     ]
    }
   ],
   "source": [
    "!pip3 install cv2"
   ]
  },
  {
   "cell_type": "code",
   "execution_count": 4,
   "metadata": {},
   "outputs": [],
   "source": [
    "import numpy as np\n",
    "import matplotlib.pyplot as plt\n",
    "from sklearn.model_selection import train_test_split\n",
    "from sklearn.metrics import confusion_matrix\n",
    "import itertools\n",
    "\n",
    "from keras.models import Sequential, load_model\n",
    "from keras.layers import Dense , Activation , Dropout ,Flatten\n",
    "from keras.layers.convolutional import Conv2D\n",
    "from keras.layers.convolutional import MaxPooling2D\n",
    "from keras.metrics import categorical_accuracy\n",
    "from keras.utils import to_categorical\n",
    "from keras.optimizers import *\n",
    "from keras.layers.normalization import BatchNormalization\n",
    "from sklearn.metrics import accuracy_score\n",
    "%matplotlib inline"
   ]
  },
  {
   "cell_type": "code",
   "execution_count": 5,
   "metadata": {},
   "outputs": [],
   "source": [
    "filename = './fer2013.csv'\n",
    "label_map = ['Anger', 'Disgust', 'Fear', 'Happy', 'Sad', 'Surprise', 'Neutral']\n",
    "\n",
    "def getData(filename):\n",
    "    Y = []\n",
    "    X = []\n",
    "    first = True\n",
    "    for line in open(filename):\n",
    "        if first:\n",
    "            first = False\n",
    "        else:\n",
    "            row = line.split(',')\n",
    "            Y.append(int(row[0]))\n",
    "            X.append(np.array([int(p) for p in row[1].split()]).reshape((48,48)))\n",
    "            \n",
    "    \n",
    "    X, Y = np.array(X) / 255.0, np.array(Y)\n",
    "    return X, Y\n",
    "\n",
    "X, Y = getData(filename)\n",
    "X = np.reshape(X, (-1,48,48,1))\n",
    "num_class = len(set(Y))\n",
    "Y = to_categorical(Y, num_classes=num_class)"
   ]
  },
  {
   "cell_type": "code",
   "execution_count": 6,
   "metadata": {},
   "outputs": [
    {
     "data": {
      "text/plain": [
       "<matplotlib.image.AxesImage at 0x102b4fac8>"
      ]
     },
     "execution_count": 6,
     "metadata": {},
     "output_type": "execute_result"
    },
    {
     "data": {
      "image/png": "[encoded data removed]",
      "text/plain": [
       "<Figure size 432x288 with 1 Axes>"
      ]
     },
     "metadata": {
      "needs_background": "light"
     },
     "output_type": "display_data"
    }
   ],
   "source": [
    "plt.imshow(X[0,:,:,0], cmap='gray')"
   ]
  },
  {
   "cell_type": "code",
   "execution_count": 7,
   "metadata": {},
   "outputs": [],
   "source": [
    "X1 = X[0:10,:,:,:]\n",
    "Y = Y[0:10,:]"
   ]
  },
  {
   "cell_type": "code",
   "execution_count": 8,
   "metadata": {},
   "outputs": [],
   "source": [
    "X_train, X_test, y_train, y_test = train_test_split(X1, Y, test_size=0.1, random_state=0)"
   ]
  },
  {
   "cell_type": "code",
   "execution_count": 9,
   "metadata": {},
   "outputs": [],
   "source": [
    "batch_size = 128\n",
    "epochs = 60\n",
    "def baseline_model():\n",
    "    model = Sequential()\n",
    "\n",
    "    model.add(Conv2D(64,(3,3), border_mode='same', input_shape=(48, 48,1)))\n",
    "    model.add(BatchNormalization())\n",
    "    model.add(Activation('relu'))\n",
    "    model.add(MaxPooling2D(pool_size=(2, 2)))\n",
    "    model.add(Dropout(0.25))\n",
    "\n",
    "    model.add(Conv2D(128,(5,5), border_mode='same'))\n",
    "    model.add(BatchNormalization())\n",
    "    model.add(Activation('relu'))\n",
    "    model.add(MaxPooling2D(pool_size=(2, 2)))\n",
    "    model.add(Dropout(0.40))\n",
    "                         \n",
    "    model.add(Conv2D(256,(3,3), border_mode='same'))\n",
    "    model.add(BatchNormalization())\n",
    "    model.add(Activation('relu'))\n",
    "    model.add(MaxPooling2D(pool_size=(2, 2)))\n",
    "    model.add(Dropout(0.40))\n",
    "                      \n",
    "    model.add(Conv2D(512,(5,5), border_mode='same'))\n",
    "    model.add(BatchNormalization())\n",
    "    model.add(Activation('relu'))\n",
    "    model.add(MaxPooling2D(pool_size=(2, 2)))\n",
    "    model.add(Dropout(0.25))  \n",
    "                                   \n",
    "    model.add(Flatten())\n",
    "                      \n",
    "    model.add(Dense(256))\n",
    "    model.add(BatchNormalization())\n",
    "    model.add(Activation('relu'))\n",
    "    model.add(Dropout(0.25))\n",
    "                      \n",
    "    model.add(Dense(512))\n",
    "    model.add(BatchNormalization())\n",
    "    model.add(Activation('relu'))\n",
    "    model.add(Dropout(0.25)) \n",
    "    \n",
    "\n",
    "    model.add(Dense(num_class, activation='sigmoid'))\n",
    "\n",
    "    model.compile(optimizer='adam', loss='binary_crossentropy', metrics=[categorical_accuracy])\n",
    "    return model"
   ]
  },
  {
   "cell_type": "code",
   "execution_count": 10,
   "metadata": {},
   "outputs": [
    {
     "name": "stderr",
     "output_type": "stream",
     "text": [
      "/Users/raj/Downloads/majorProject/venv/lib/python3.7/site-packages/ipykernel_launcher.py:6: UserWarning: Update your `Conv2D` call to the Keras 2 API: `Conv2D(64, (3, 3), input_shape=(48, 48, 1..., padding=\"same\")`\n",
      "  \n",
      "/Users/raj/Downloads/majorProject/venv/lib/python3.7/site-packages/ipykernel_launcher.py:12: UserWarning: Update your `Conv2D` call to the Keras 2 API: `Conv2D(128, (5, 5), padding=\"same\")`\n",
      "  if sys.path[0] == '':\n",
      "/Users/raj/Downloads/majorProject/venv/lib/python3.7/site-packages/ipykernel_launcher.py:18: UserWarning: Update your `Conv2D` call to the Keras 2 API: `Conv2D(256, (3, 3), padding=\"same\")`\n",
      "/Users/raj/Downloads/majorProject/venv/lib/python3.7/site-packages/ipykernel_launcher.py:24: UserWarning: Update your `Conv2D` call to the Keras 2 API: `Conv2D(512, (5, 5), padding=\"same\")`\n"
     ]
    },
    {
     "name": "stdout",
     "output_type": "stream",
     "text": [
      "WARNING:tensorflow:From /Users/raj/Downloads/majorProject/venv/lib/python3.7/site-packages/tensorflow/python/ops/math_ops.py:3066: to_int32 (from tensorflow.python.ops.math_ops) is deprecated and will be removed in a future version.\n",
      "Instructions for updating:\n",
      "Use tf.cast instead.\n",
      "Train on 8 samples, validate on 1 samples\n",
      "Epoch 1/60\n",
      " - 3s - loss: 0.6799 - categorical_accuracy: 0.0000e+00 - val_loss: 0.5105 - val_categorical_accuracy: 1.0000\n",
      "Epoch 2/60\n",
      " - 1s - loss: 0.6302 - categorical_accuracy: 0.5000 - val_loss: 0.5078 - val_categorical_accuracy: 0.0000e+00\n",
      "Epoch 3/60\n",
      " - 1s - loss: 0.5372 - categorical_accuracy: 0.2500 - val_loss: 0.5151 - val_categorical_accuracy: 0.0000e+00\n",
      "Epoch 4/60\n",
      " - 1s - loss: 0.5102 - categorical_accuracy: 0.1250 - val_loss: 0.5244 - val_categorical_accuracy: 0.0000e+00\n",
      "Epoch 5/60\n",
      " - 1s - loss: 0.3510 - categorical_accuracy: 0.7500 - val_loss: 0.5056 - val_categorical_accuracy: 0.0000e+00\n",
      "Epoch 6/60\n",
      " - 1s - loss: 0.3415 - categorical_accuracy: 0.7500 - val_loss: 0.5075 - val_categorical_accuracy: 0.0000e+00\n",
      "Epoch 7/60\n",
      " - 1s - loss: 0.2491 - categorical_accuracy: 1.0000 - val_loss: 0.5273 - val_categorical_accuracy: 0.0000e+00\n",
      "Epoch 8/60\n",
      " - 1s - loss: 0.2901 - categorical_accuracy: 0.8750 - val_loss: 0.5392 - val_categorical_accuracy: 0.0000e+00\n",
      "Epoch 9/60\n",
      " - 0s - loss: 0.2346 - categorical_accuracy: 0.8750 - val_loss: 0.5788 - val_categorical_accuracy: 0.0000e+00\n",
      "Epoch 10/60\n",
      " - 1s - loss: 0.1990 - categorical_accuracy: 1.0000 - val_loss: 0.6223 - val_categorical_accuracy: 0.0000e+00\n",
      "Epoch 11/60\n",
      " - 1s - loss: 0.1534 - categorical_accuracy: 1.0000 - val_loss: 0.6377 - val_categorical_accuracy: 0.0000e+00\n",
      "Epoch 12/60\n",
      " - 1s - loss: 0.1056 - categorical_accuracy: 1.0000 - val_loss: 0.6430 - val_categorical_accuracy: 0.0000e+00\n",
      "Epoch 13/60\n",
      " - 1s - loss: 0.1072 - categorical_accuracy: 1.0000 - val_loss: 0.6366 - val_categorical_accuracy: 0.0000e+00\n",
      "Epoch 14/60\n",
      " - 0s - loss: 0.0963 - categorical_accuracy: 1.0000 - val_loss: 0.6314 - val_categorical_accuracy: 0.0000e+00\n",
      "Epoch 15/60\n",
      " - 1s - loss: 0.1010 - categorical_accuracy: 1.0000 - val_loss: 0.6270 - val_categorical_accuracy: 0.0000e+00\n",
      "Epoch 16/60\n",
      " - 1s - loss: 0.0677 - categorical_accuracy: 1.0000 - val_loss: 0.6244 - val_categorical_accuracy: 0.0000e+00\n",
      "Epoch 17/60\n",
      " - 1s - loss: 0.0548 - categorical_accuracy: 1.0000 - val_loss: 0.6211 - val_categorical_accuracy: 0.0000e+00\n",
      "Epoch 18/60\n",
      " - 1s - loss: 0.0503 - categorical_accuracy: 1.0000 - val_loss: 0.6238 - val_categorical_accuracy: 0.0000e+00\n",
      "Epoch 19/60\n",
      " - 1s - loss: 0.0511 - categorical_accuracy: 1.0000 - val_loss: 0.6412 - val_categorical_accuracy: 0.0000e+00\n",
      "Epoch 20/60\n",
      " - 1s - loss: 0.0394 - categorical_accuracy: 1.0000 - val_loss: 0.6583 - val_categorical_accuracy: 0.0000e+00\n",
      "Epoch 21/60\n",
      " - 1s - loss: 0.0336 - categorical_accuracy: 1.0000 - val_loss: 0.6808 - val_categorical_accuracy: 0.0000e+00\n",
      "Epoch 22/60\n",
      " - 1s - loss: 0.0499 - categorical_accuracy: 1.0000 - val_loss: 0.7015 - val_categorical_accuracy: 0.0000e+00\n",
      "Epoch 23/60\n",
      " - 1s - loss: 0.0329 - categorical_accuracy: 1.0000 - val_loss: 0.7344 - val_categorical_accuracy: 0.0000e+00\n",
      "Epoch 24/60\n",
      " - 1s - loss: 0.0372 - categorical_accuracy: 1.0000 - val_loss: 0.7697 - val_categorical_accuracy: 0.0000e+00\n",
      "Epoch 25/60\n",
      " - 1s - loss: 0.0250 - categorical_accuracy: 1.0000 - val_loss: 0.8151 - val_categorical_accuracy: 0.0000e+00\n",
      "Epoch 26/60\n",
      " - 1s - loss: 0.0222 - categorical_accuracy: 1.0000 - val_loss: 0.8568 - val_categorical_accuracy: 0.0000e+00\n",
      "Epoch 27/60\n",
      " - 1s - loss: 0.0181 - categorical_accuracy: 1.0000 - val_loss: 0.8938 - val_categorical_accuracy: 0.0000e+00\n",
      "Epoch 28/60\n",
      " - 1s - loss: 0.0199 - categorical_accuracy: 1.0000 - val_loss: 0.9365 - val_categorical_accuracy: 0.0000e+00\n",
      "Epoch 29/60\n",
      " - 1s - loss: 0.0174 - categorical_accuracy: 1.0000 - val_loss: 0.9753 - val_categorical_accuracy: 0.0000e+00\n",
      "Epoch 30/60\n",
      " - 1s - loss: 0.0228 - categorical_accuracy: 1.0000 - val_loss: 1.0181 - val_categorical_accuracy: 0.0000e+00\n",
      "Epoch 31/60\n",
      " - 1s - loss: 0.0146 - categorical_accuracy: 1.0000 - val_loss: 1.0712 - val_categorical_accuracy: 0.0000e+00\n",
      "Epoch 32/60\n",
      " - 1s - loss: 0.0211 - categorical_accuracy: 1.0000 - val_loss: 1.1230 - val_categorical_accuracy: 0.0000e+00\n",
      "Epoch 33/60\n",
      " - 1s - loss: 0.0115 - categorical_accuracy: 1.0000 - val_loss: 1.1634 - val_categorical_accuracy: 0.0000e+00\n",
      "Epoch 34/60\n",
      " - 1s - loss: 0.0133 - categorical_accuracy: 1.0000 - val_loss: 1.2059 - val_categorical_accuracy: 0.0000e+00\n",
      "Epoch 35/60\n",
      " - 1s - loss: 0.0131 - categorical_accuracy: 1.0000 - val_loss: 1.2376 - val_categorical_accuracy: 0.0000e+00\n",
      "Epoch 36/60\n",
      " - 1s - loss: 0.0112 - categorical_accuracy: 1.0000 - val_loss: 1.2751 - val_categorical_accuracy: 0.0000e+00\n",
      "Epoch 37/60\n",
      " - 1s - loss: 0.0124 - categorical_accuracy: 1.0000 - val_loss: 1.3072 - val_categorical_accuracy: 0.0000e+00\n",
      "Epoch 38/60\n",
      " - 1s - loss: 0.0110 - categorical_accuracy: 1.0000 - val_loss: 1.3376 - val_categorical_accuracy: 0.0000e+00\n",
      "Epoch 39/60\n",
      " - 1s - loss: 0.0092 - categorical_accuracy: 1.0000 - val_loss: 1.3646 - val_categorical_accuracy: 0.0000e+00\n",
      "Epoch 40/60\n",
      " - 1s - loss: 0.0080 - categorical_accuracy: 1.0000 - val_loss: 1.3884 - val_categorical_accuracy: 0.0000e+00\n",
      "Epoch 41/60\n",
      " - 1s - loss: 0.0107 - categorical_accuracy: 1.0000 - val_loss: 1.4101 - val_categorical_accuracy: 0.0000e+00\n",
      "Epoch 42/60\n",
      " - 1s - loss: 0.0083 - categorical_accuracy: 1.0000 - val_loss: 1.4280 - val_categorical_accuracy: 0.0000e+00\n",
      "Epoch 43/60\n",
      " - 1s - loss: 0.0087 - categorical_accuracy: 1.0000 - val_loss: 1.4460 - val_categorical_accuracy: 0.0000e+00\n",
      "Epoch 44/60\n",
      " - 1s - loss: 0.0097 - categorical_accuracy: 1.0000 - val_loss: 1.4656 - val_categorical_accuracy: 0.0000e+00\n",
      "Epoch 45/60\n",
      " - 1s - loss: 0.0059 - categorical_accuracy: 1.0000 - val_loss: 1.4822 - val_categorical_accuracy: 0.0000e+00\n",
      "Epoch 46/60\n",
      " - 1s - loss: 0.0075 - categorical_accuracy: 1.0000 - val_loss: 1.5004 - val_categorical_accuracy: 0.0000e+00\n",
      "Epoch 47/60\n",
      " - 1s - loss: 0.0090 - categorical_accuracy: 1.0000 - val_loss: 1.5151 - val_categorical_accuracy: 0.0000e+00\n",
      "Epoch 48/60\n",
      " - 1s - loss: 0.0083 - categorical_accuracy: 1.0000 - val_loss: 1.5374 - val_categorical_accuracy: 0.0000e+00\n",
      "Epoch 49/60\n",
      " - 1s - loss: 0.0065 - categorical_accuracy: 1.0000 - val_loss: 1.5513 - val_categorical_accuracy: 0.0000e+00\n",
      "Epoch 50/60\n",
      " - 1s - loss: 0.0078 - categorical_accuracy: 1.0000 - val_loss: 1.5657 - val_categorical_accuracy: 0.0000e+00\n",
      "Epoch 51/60\n",
      " - 1s - loss: 0.0063 - categorical_accuracy: 1.0000 - val_loss: 1.5798 - val_categorical_accuracy: 0.0000e+00\n",
      "Epoch 52/60\n",
      " - 1s - loss: 0.0061 - categorical_accuracy: 1.0000 - val_loss: 1.5922 - val_categorical_accuracy: 0.0000e+00\n",
      "Epoch 53/60\n",
      " - 1s - loss: 0.0064 - categorical_accuracy: 1.0000 - val_loss: 1.6042 - val_categorical_accuracy: 0.0000e+00\n",
      "Epoch 54/60\n",
      " - 1s - loss: 0.0064 - categorical_accuracy: 1.0000 - val_loss: 1.6190 - val_categorical_accuracy: 0.0000e+00\n",
      "Epoch 55/60\n",
      " - 1s - loss: 0.0054 - categorical_accuracy: 1.0000 - val_loss: 1.6335 - val_categorical_accuracy: 0.0000e+00\n",
      "Epoch 56/60\n",
      " - 1s - loss: 0.0065 - categorical_accuracy: 1.0000 - val_loss: 1.6425 - val_categorical_accuracy: 0.0000e+00\n",
      "Epoch 57/60\n",
      " - 1s - loss: 0.0049 - categorical_accuracy: 1.0000 - val_loss: 1.6527 - val_categorical_accuracy: 0.0000e+00\n",
      "Epoch 58/60\n",
      " - 1s - loss: 0.0052 - categorical_accuracy: 1.0000 - val_loss: 1.6644 - val_categorical_accuracy: 0.0000e+00\n",
      "Epoch 59/60\n",
      " - 1s - loss: 0.0050 - categorical_accuracy: 1.0000 - val_loss: 1.6740 - val_categorical_accuracy: 0.0000e+00\n",
      "Epoch 60/60\n",
      " - 1s - loss: 0.0045 - categorical_accuracy: 1.0000 - val_loss: 1.6834 - val_categorical_accuracy: 0.0000e+00\n"
     ]
    },
    {
     "data": {
      "image/png": "[encoded data removed]",
      "text/plain": [
       "<Figure size 432x288 with 1 Axes>"
      ]
     },
     "metadata": {
      "needs_background": "light"
     },
     "output_type": "display_data"
    },
    {
     "data": {
      "image/png": "[encoded data removed]",
      "text/plain": [
       "<Figure size 432x288 with 1 Axes>"
      ]
     },
     "metadata": {
      "needs_background": "light"
     },
     "output_type": "display_data"
    },
    {
     "name": "stderr",
     "output_type": "stream",
     "text": [
      "/Users/raj/Downloads/majorProject/venv/lib/python3.7/site-packages/keras/engine/sequential.py:110: UserWarning: `Sequential.model` is deprecated. `Sequential` is a subclass of `Model`, you can just use your `Sequential` instance directly.\n",
      "  warnings.warn('`Sequential.model` is deprecated. '\n"
     ]
    }
   ],
   "source": [
    "model = baseline_model()\n",
    "\n",
    "m1=model.fit(X_train, y_train,\n",
    "          batch_size=batch_size,\n",
    "          epochs=epochs,\n",
    "          verbose=2,validation_split=0.1111)\n",
    "\n",
    "def plot_history(history):\n",
    "    loss_list = [s for s in history.history.keys() if 'loss' in s and 'val' not in s]\n",
    "    val_loss_list = [s for s in history.history.keys() if 'loss' in s and 'val' in s]\n",
    "    acc_list = [s for s in history.history.keys() if 'acc' in s and 'val' not in s]\n",
    "    val_acc_list = [s for s in history.history.keys() if 'acc' in s and 'val' in s]\n",
    "    \n",
    "    if len(loss_list) == 0:\n",
    "        print('Loss is missing in history')\n",
    "        return \n",
    "    \n",
    "    \n",
    "    epochs = range(1,len(history.history[loss_list[0]]) + 1)\n",
    "    \n",
    "    \n",
    "    plt.figure(1)\n",
    "    for l in loss_list:\n",
    "        plt.plot(epochs, history.history[l], 'b', label='Training loss (' + str(str(format(history.history[l][-1],'.5f'))+')'))\n",
    "    for l in val_loss_list:\n",
    "        plt.plot(epochs, history.history[l], 'g', label='Validation loss (' + str(str(format(history.history[l][-1],'.5f'))+')'))\n",
    "    \n",
    "    plt.title('Loss')\n",
    "    plt.xlabel('Epochs')\n",
    "    plt.ylabel('Loss')\n",
    "    plt.legend()\n",
    "    \n",
    "    \n",
    "    plt.figure(2)\n",
    "    for l in acc_list:\n",
    "        plt.plot(epochs, history.history[l], 'b', label='Training accuracy (' + str(format(history.history[l][-1],'.5f'))+')')\n",
    "    for l in val_acc_list:    \n",
    "        plt.plot(epochs, history.history[l], 'g', label='Validation accuracy (' + str(format(history.history[l][-1],'.5f'))+')')\n",
    "\n",
    "    plt.title('Accuracy')\n",
    "    plt.xlabel('Epochs')\n",
    "    plt.ylabel('Accuracy')\n",
    "    plt.legend()\n",
    "    plt.show()\n",
    "\n",
    "plot_history(m1)\n",
    "model.model.save('cnn.h5')"
   ]
  },
  {
   "cell_type": "code",
   "execution_count": 11,
   "metadata": {},
   "outputs": [
    {
     "name": "stdout",
     "output_type": "stream",
     "text": [
      "_________________________________________________________________\n",
      "Layer (type)                 Output Shape              Param #   \n",
      "=================================================================\n",
      "conv2d_5 (Conv2D)            (None, 48, 48, 64)        640       \n",
      "_________________________________________________________________\n",
      "batch_normalization_7 (Batch (None, 48, 48, 64)        256       \n",
      "_________________________________________________________________\n",
      "activation_7 (Activation)    (None, 48, 48, 64)        0         \n",
      "_________________________________________________________________\n",
      "max_pooling2d_5 (MaxPooling2 (None, 24, 24, 64)        0         \n",
      "_________________________________________________________________\n",
      "dropout_7 (Dropout)          (None, 24, 24, 64)        0         \n",
      "_________________________________________________________________\n",
      "conv2d_6 (Conv2D)            (None, 24, 24, 128)       204928    \n",
      "_________________________________________________________________\n",
      "batch_normalization_8 (Batch (None, 24, 24, 128)       512       \n",
      "_________________________________________________________________\n",
      "activation_8 (Activation)    (None, 24, 24, 128)       0         \n",
      "_________________________________________________________________\n",
      "max_pooling2d_6 (MaxPooling2 (None, 12, 12, 128)       0         \n",
      "_________________________________________________________________\n",
      "dropout_8 (Dropout)          (None, 12, 12, 128)       0         \n",
      "_________________________________________________________________\n",
      "conv2d_7 (Conv2D)            (None, 12, 12, 256)       295168    \n",
      "_________________________________________________________________\n",
      "batch_normalization_9 (Batch (None, 12, 12, 256)       1024      \n",
      "_________________________________________________________________\n",
      "activation_9 (Activation)    (None, 12, 12, 256)       0         \n",
      "_________________________________________________________________\n",
      "max_pooling2d_7 (MaxPooling2 (None, 6, 6, 256)         0         \n",
      "_________________________________________________________________\n",
      "dropout_9 (Dropout)          (None, 6, 6, 256)         0         \n",
      "_________________________________________________________________\n",
      "conv2d_8 (Conv2D)            (None, 6, 6, 512)         3277312   \n",
      "_________________________________________________________________\n",
      "batch_normalization_10 (Batc (None, 6, 6, 512)         2048      \n",
      "_________________________________________________________________\n",
      "activation_10 (Activation)   (None, 6, 6, 512)         0         \n",
      "_________________________________________________________________\n",
      "max_pooling2d_8 (MaxPooling2 (None, 3, 3, 512)         0         \n",
      "_________________________________________________________________\n",
      "dropout_10 (Dropout)         (None, 3, 3, 512)         0         \n",
      "_________________________________________________________________\n",
      "flatten_2 (Flatten)          (None, 4608)              0         \n",
      "_________________________________________________________________\n",
      "dense_3 (Dense)              (None, 256)               1179904   \n",
      "_________________________________________________________________\n",
      "batch_normalization_11 (Batc (None, 256)               1024      \n",
      "_________________________________________________________________\n",
      "activation_11 (Activation)   (None, 256)               0         \n",
      "_________________________________________________________________\n",
      "dropout_11 (Dropout)         (None, 256)               0         \n",
      "_________________________________________________________________\n",
      "dense_4 (Dense)              (None, 512)               131584    \n",
      "_________________________________________________________________\n",
      "batch_normalization_12 (Batc (None, 512)               2048      \n",
      "_________________________________________________________________\n",
      "activation_12 (Activation)   (None, 512)               0         \n",
      "_________________________________________________________________\n",
      "dropout_12 (Dropout)         (None, 512)               0         \n",
      "_________________________________________________________________\n",
      "dense_5 (Dense)              (None, 7)                 3591      \n",
      "=================================================================\n",
      "Total params: 5,100,039\n",
      "Trainable params: 5,096,583\n",
      "Non-trainable params: 3,456\n",
      "_________________________________________________________________\n",
      "None\n",
      " Accuracy on Test set :  0.0\n"
     ]
    }
   ],
   "source": [
    "model = load_model('cnn.h5')\n",
    "pred = model.predict(X_test)\n",
    "print(model.summary())\n",
    "\n",
    "y_pred, y_test_actual = [], []\n",
    "y_pred = [np.argmax(p) for p in pred]    \n",
    "y_test_actual = [np.argmax(p) for p in y_test]\n",
    "\n",
    "print(\" Accuracy on Test set : \" , accuracy_score(y_test_actual, y_pred))"
   ]
  },
  {
   "cell_type": "code",
   "execution_count": 12,
   "metadata": {},
   "outputs": [
    {
     "name": "stdout",
     "output_type": "stream",
     "text": [
      "['Happy']\n"
     ]
    }
   ],
   "source": [
    "pred_emotion=[]\n",
    "for i in range(len(y_pred)):\n",
    "    if y_pred[i]==0:\n",
    "        pred_emotion.append(\"Anger\")\n",
    "    elif y_pred[i]==1:\n",
    "        pred_emotion.append(\"Disgust\")\n",
    "    elif y_pred[i]==2:\n",
    "        pred_emotion.append(\"Fear\")\n",
    "    elif y_pred[i]==3:\n",
    "        pred_emotion.append(\"Happy\")\n",
    "    elif y_pred[i]==4:\n",
    "        pred_emotion.append(\"Sad\")\n",
    "    elif y_pred[i]==5:\n",
    "        pred_emotion.append(\"Surprise\")\n",
    "    elif y_pred[i]==6:\n",
    "        pred_emotion.append(\"Neutral\")\n",
    "    \n",
    "print(pred_emotion)"
   ]
  },
  {
   "cell_type": "code",
   "execution_count": 13,
   "metadata": {},
   "outputs": [
    {
     "name": "stdout",
     "output_type": "stream",
     "text": [
      "['Fear']\n"
     ]
    }
   ],
   "source": [
    "act_emotion=[]\n",
    "for i in range(len(y_test_actual)):\n",
    "    if y_test_actual[i]==0:\n",
    "        act_emotion.append(\"Anger\")\n",
    "    elif y_test_actual[i]==1:\n",
    "        act_emotion.append(\"Diusgust\")\n",
    "    elif y_test_actual[i]==2:\n",
    "        act_emotion.append(\"Fear\")\n",
    "    elif y_test_actual[i]==3:\n",
    "        act_emotion.append(\"Happy\")\n",
    "    elif y_test_actual[i]==4:\n",
    "        act_emotion.append(\"Sad\")\n",
    "    elif y_test_actual[i]==5:\n",
    "        act_emotion.append(\"Surprise\")\n",
    "    elif y_test_actual[i]==6:\n",
    "        act_emotion.append(\"Neutral\")\n",
    "    \n",
    "print(act_emotion)"
   ]
  },
  {
   "cell_type": "code",
   "execution_count": 16,
   "metadata": {},
   "outputs": [
    {
     "name": "stdout",
     "output_type": "stream",
     "text": [
      "For test image: 1\n",
      "The actual emotion as in the dataset is: Fear\n",
      "The emotion predicted by our algorithm is: Happy\n"
     ]
    }
   ],
   "source": [
    "import pandas\n",
    "\n",
    "test_image_number=[]\n",
    "for i in range(len(act_emotion)):\n",
    "    print(\"For test image:\",i+1)\n",
    "    print(\"The actual emotion as in the dataset is:\",act_emotion[i])\n",
    "    print(\"The emotion predicted by our algorithm is:\",pred_emotion[i])\n",
    "    test_image_number.append(i+1)\n",
    "    \n",
    "df = pandas.DataFrame(columns=[\"Test image Number\",\"Actual Emotion\",\"Predicted Emotion\"], data=list(zip(test_image_number,act_emotion,pred_emotion))) \n"
   ]
  },
  {
   "cell_type": "code",
   "execution_count": 17,
   "metadata": {},
   "outputs": [],
   "source": [
    "def plot_confusion_matrix(cm, classes,\n",
    "                          normalize=False,\n",
    "                          title='Confusion matrix',\n",
    "                          cmap=plt.cm.Blues):\n",
    "    \n",
    "    if normalize:\n",
    "        cm = cm.astype('float') / cm.sum(axis=1)[:, np.newaxis]\n",
    "        print(\"Normalized confusion matrix\")\n",
    "    else:\n",
    "        print('Confusion matrix, without normalization')\n",
    "\n",
    "    print(cm)\n",
    "\n",
    "    plt.imshow(cm, interpolation='nearest', cmap=cmap)\n",
    "    plt.title(title)\n",
    "    plt.colorbar()\n",
    "    tick_marks = np.arange(len(classes))\n",
    "    plt.xticks(tick_marks, classes, rotation=45)\n",
    "    plt.yticks(tick_marks, classes)\n",
    "\n",
    "    fmt = '.2f' if normalize else 'd'\n",
    "    thresh = cm.max() / 2.\n",
    "    for i, j in itertools.product(range(cm.shape[0]), range(cm.shape[1])):\n",
    "        plt.text(j, i, format(cm[i, j], fmt),\n",
    "                 horizontalalignment=\"center\",\n",
    "                 color=\"white\" if cm[i, j] > thresh else \"black\")\n",
    "\n",
    "    plt.ylabel('True label')\n",
    "    plt.xlabel('Predicted label')\n",
    "    plt.tight_layout()"
   ]
  },
  {
   "cell_type": "code",
   "execution_count": 18,
   "metadata": {},
   "outputs": [
    {
     "name": "stdout",
     "output_type": "stream",
     "text": [
      "Confusion matrix, without normalization\n",
      "[[0 1]\n",
      " [0 0]]\n",
      "Normalized confusion matrix\n",
      "[[ 0.  1.]\n",
      " [nan nan]]\n"
     ]
    },
    {
     "name": "stderr",
     "output_type": "stream",
     "text": [
      "/Users/raj/Downloads/majorProject/venv/lib/python3.7/site-packages/ipykernel_launcher.py:7: RuntimeWarning: invalid value encountered in true_divide\n",
      "  import sys\n"
     ]
    },
    {
     "data": {
      "image/png": "[encoded data removed]",
      "text/plain": [
       "<Figure size 432x288 with 2 Axes>"
      ]
     },
     "metadata": {
      "needs_background": "light"
     },
     "output_type": "display_data"
    },
    {
     "data": {
      "image/png": "[encoded data removed]",
      "text/plain": [
       "<Figure size 432x288 with 2 Axes>"
      ]
     },
     "metadata": {
      "needs_background": "light"
     },
     "output_type": "display_data"
    }
   ],
   "source": [
    "cnf_matrix = confusion_matrix(y_test_actual, y_pred)\n",
    "np.set_printoptions(precision=2)\n",
    "\n",
    "plt.figure()\n",
    "plot_confusion_matrix(cnf_matrix, classes=label_map,\n",
    "                      title='Confusion matrix, without normalization')\n",
    "\n",
    "plt.figure()\n",
    "plot_confusion_matrix(cnf_matrix, classes=label_map, normalize=True,\n",
    "                      title='Normalized confusion matrix')\n",
    "\n",
    "plt.show()"
   ]
  },
  {
   "cell_type": "code",
   "execution_count": 19,
   "metadata": {},
   "outputs": [
    {
     "ename": "ModuleNotFoundError",
     "evalue": "No module named 'cv2'",
     "output_type": "error",
     "traceback": [
      "\u001b[0;31m---------------------------------------------------------------------------\u001b[0m",
      "\u001b[0;31mModuleNotFoundError\u001b[0m                       Traceback (most recent call last)",
      "\u001b[0;32m<ipython-input-19-b8551edb20fd>\u001b[0m in \u001b[0;36m<module>\u001b[0;34m\u001b[0m\n\u001b[0;32m----> 1\u001b[0;31m \u001b[0;32mimport\u001b[0m \u001b[0mcv2\u001b[0m\u001b[0;34m\u001b[0m\u001b[0;34m\u001b[0m\u001b[0m\n\u001b[0m\u001b[1;32m      2\u001b[0m \u001b[0;32mimport\u001b[0m \u001b[0mmatplotlib\u001b[0m\u001b[0;34m.\u001b[0m\u001b[0mpyplot\u001b[0m \u001b[0;32mas\u001b[0m \u001b[0mplt\u001b[0m\u001b[0;34m\u001b[0m\u001b[0;34m\u001b[0m\u001b[0m\n\u001b[1;32m      3\u001b[0m \u001b[0mget_ipython\u001b[0m\u001b[0;34m(\u001b[0m\u001b[0;34m)\u001b[0m\u001b[0;34m.\u001b[0m\u001b[0mrun_line_magic\u001b[0m\u001b[0;34m(\u001b[0m\u001b[0;34m'matplotlib'\u001b[0m\u001b[0;34m,\u001b[0m \u001b[0;34m'inline                               '\u001b[0m\u001b[0;34m)\u001b[0m\u001b[0;34m\u001b[0m\u001b[0;34m\u001b[0m\u001b[0m\n\u001b[1;32m      4\u001b[0m \u001b[0;34m\u001b[0m\u001b[0m\n\u001b[1;32m      5\u001b[0m \u001b[0mfont\u001b[0m \u001b[0;34m=\u001b[0m \u001b[0mcv2\u001b[0m\u001b[0;34m.\u001b[0m\u001b[0mFONT_HERSHEY_SIMPLEX\u001b[0m\u001b[0;34m\u001b[0m\u001b[0;34m\u001b[0m\u001b[0m\n",
      "\u001b[0;31mModuleNotFoundError\u001b[0m: No module named 'cv2'"
     ]
    }
   ],
   "source": [
    "import cv2                \n",
    "import matplotlib.pyplot as plt                        \n",
    "%matplotlib inline                               \n",
    "\n",
    "font = cv2.FONT_HERSHEY_SIMPLEX\n",
    "\n",
    "face_cascade = cv2.CascadeClassifier('./haarcascade_frontalface_default.xml')\n",
    "\n",
    "\n",
    "img = cv2.imread('./me.png')\n",
    "\n",
    "gray = cv2.cvtColor(img, cv2.COLOR_BGR2GRAY)\n",
    "\n",
    "faces = face_cascade.detectMultiScale(gray)\n",
    "\n",
    "\n",
    "print('Number of faces detected:', len(faces))\n",
    "\n",
    "\n",
    "for (x, y, w, h) in faces:\n",
    "    fc = gray[y:y+h, x:x+w]\n",
    "\n",
    "    roi = cv2.resize(fc, (48, 48))\n",
    "    pred = model.predict(roi[np.newaxis, :, :, np.newaxis])\n",
    "    \n",
    "    for i in range(len(pred[0])):\n",
    "        if pred[0][i]==1:\n",
    "            index=i\n",
    "        if index==0:\n",
    "            out=\"Anger\"\n",
    "        elif index==1:\n",
    "            out=\"Disgust\"\n",
    "        elif index==2:\n",
    "            out=\"Fear\"\n",
    "        elif index==3:\n",
    "            out=\"Happy\"\n",
    "        elif index==4:\n",
    "            out=\"Sad\"\n",
    "        elif index==5:\n",
    "            out=\"Surprise\"\n",
    "        elif index==6:\n",
    "            out=\"Neutral\"\n",
    "    \n",
    "    cv2.putText(img, out, (x, y), font, 1, (255, 255, 0), 2)\n",
    "    cv2.rectangle(img,(x,y),(x+w,y+h),(255,0,0),2)\n",
    "\n",
    "\n",
    "cv_rgb = cv2.cvtColor(img, cv2.COLOR_BGR2RGB)\n",
    "print(\"The emotion predicted is:\",out)\n",
    "print(\"Maybe the emotion was neutral!!! Wrong predictions\")\n",
    "\n",
    "plt.imshow(cv_rgb)\n",
    "plt.show()"
   ]
  },
  {
   "cell_type": "code",
   "execution_count": 20,
   "metadata": {},
   "outputs": [
    {
     "ename": "NameError",
     "evalue": "name 'cv2' is not defined",
     "output_type": "error",
     "traceback": [
      "\u001b[0;31m---------------------------------------------------------------------------\u001b[0m",
      "\u001b[0;31mNameError\u001b[0m                                 Traceback (most recent call last)",
      "\u001b[0;32m<ipython-input-20-75ab18d43fe0>\u001b[0m in \u001b[0;36m<module>\u001b[0;34m\u001b[0m\n\u001b[1;32m      1\u001b[0m \u001b[0mmodel\u001b[0m\u001b[0;34m.\u001b[0m\u001b[0mload_weights\u001b[0m\u001b[0;34m(\u001b[0m\u001b[0;34m'./cnn.h5'\u001b[0m\u001b[0;34m)\u001b[0m\u001b[0;34m\u001b[0m\u001b[0;34m\u001b[0m\u001b[0m\n\u001b[1;32m      2\u001b[0m \u001b[0;34m\u001b[0m\u001b[0m\n\u001b[0;32m----> 3\u001b[0;31m \u001b[0mcv2\u001b[0m\u001b[0;34m.\u001b[0m\u001b[0mocl\u001b[0m\u001b[0;34m.\u001b[0m\u001b[0msetUseOpenCL\u001b[0m\u001b[0;34m(\u001b[0m\u001b[0;32mFalse\u001b[0m\u001b[0;34m)\u001b[0m\u001b[0;34m\u001b[0m\u001b[0;34m\u001b[0m\u001b[0m\n\u001b[0m\u001b[1;32m      4\u001b[0m \u001b[0;34m\u001b[0m\u001b[0m\n\u001b[1;32m      5\u001b[0m \u001b[0memotion_dict\u001b[0m \u001b[0;34m=\u001b[0m \u001b[0;34m{\u001b[0m\u001b[0;36m0\u001b[0m\u001b[0;34m:\u001b[0m \u001b[0;34m\"Anger\"\u001b[0m\u001b[0;34m,\u001b[0m \u001b[0;36m1\u001b[0m\u001b[0;34m:\u001b[0m \u001b[0;34m\"Disgust\"\u001b[0m\u001b[0;34m,\u001b[0m \u001b[0;36m2\u001b[0m\u001b[0;34m:\u001b[0m \u001b[0;34m\"Fear\"\u001b[0m\u001b[0;34m,\u001b[0m \u001b[0;36m3\u001b[0m\u001b[0;34m:\u001b[0m \u001b[0;34m\"Happy\"\u001b[0m\u001b[0;34m,\u001b[0m \u001b[0;36m4\u001b[0m\u001b[0;34m:\u001b[0m \u001b[0;34m\"Sad\"\u001b[0m\u001b[0;34m,\u001b[0m \u001b[0;36m5\u001b[0m\u001b[0;34m:\u001b[0m \u001b[0;34m\"Surprise\"\u001b[0m\u001b[0;34m,\u001b[0m \u001b[0;36m6\u001b[0m\u001b[0;34m:\u001b[0m \u001b[0;34m\"Neutral\"\u001b[0m\u001b[0;34m}\u001b[0m\u001b[0;34m\u001b[0m\u001b[0;34m\u001b[0m\u001b[0m\n",
      "\u001b[0;31mNameError\u001b[0m: name 'cv2' is not defined"
     ]
    }
   ],
   "source": [
    "model.load_weights('./cnn.h5')\n",
    "\n",
    "cv2.ocl.setUseOpenCL(False)\n",
    "\n",
    "emotion_dict = {0: \"Anger\", 1: \"Disgust\", 2: \"Fear\", 3: \"Happy\", 4: \"Sad\", 5: \"Surprise\", 6: \"Neutral\"}\n",
    "\n",
    "cap = cv2.VideoCapture(0)\n",
    "while True:\n",
    "    ret, frame = cap.read()\n",
    "    if not ret:\n",
    "        break\n",
    "    facecasc = cv2.CascadeClassifier('./haarcascade_frontalface_default.xml')\n",
    "    gray = cv2.cvtColor(frame, cv2.COLOR_BGR2GRAY)\n",
    "    faces = facecasc.detectMultiScale(gray,scaleFactor=1.3, minNeighbors=5)\n",
    "\n",
    "    for (x, y, w, h) in faces:\n",
    "        cv2.rectangle(frame, (x, y-50), (x+w, y+h+10), (255, 0, 0), 2)\n",
    "        roi_gray = gray[y:y + h, x:x + w]\n",
    "        cropped_img = np.expand_dims(np.expand_dims(cv2.resize(roi_gray, (48, 48)), -1), 0)\n",
    "        prediction = model.predict(cropped_img)\n",
    "        maxindex = int(np.argmax(prediction))\n",
    "        cv2.putText(frame, emotion_dict[maxindex], (x+20, y-60), cv2.FONT_HERSHEY_SIMPLEX, 1, (255, 255, 255), 2, cv2.LINE_AA)\n",
    "\n",
    "    cv2.imshow('Video', cv2.resize(frame,(1600,960),interpolation = cv2.INTER_CUBIC))\n",
    "    if cv2.waitKey(1) & 0xFF == ord('q'):\n",
    "        break\n",
    "\n",
    "cap.release()\n",
    "cv2.destroyAllWindows()"
   ]
  },
  {
   "cell_type": "code",
   "execution_count": null,
   "metadata": {},
   "outputs": [],
   "source": []
  }
 ],
 "metadata": {
  "kernelspec": {
   "display_name": "Python 3",
   "language": "python",
   "name": "python3"
  },
  "language_info": {
   "codemirror_mode": {
    "name": "ipython",
    "version": 3
   },
   "file_extension": ".py",
   "mimetype": "text/x-python",
   "name": "python",
   "nbconvert_exporter": "python",
   "pygments_lexer": "ipython3",
   "version": "3.7.3"
  }
 },
 "nbformat": 4,
 "nbformat_minor": 2
}
